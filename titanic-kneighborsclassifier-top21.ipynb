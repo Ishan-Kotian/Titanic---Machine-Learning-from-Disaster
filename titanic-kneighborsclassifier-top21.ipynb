{
 "cells": [
  {
   "cell_type": "code",
   "execution_count": 1,
   "id": "phantom-cookie",
   "metadata": {
    "_cell_guid": "b1076dfc-b9ad-4769-8c92-a6c4dae69d19",
    "_uuid": "8f2839f25d086af736a60e9eeb907d3b93b6e0e5",
    "execution": {
     "iopub.execute_input": "2021-04-13T14:21:17.067181Z",
     "iopub.status.busy": "2021-04-13T14:21:17.066355Z",
     "iopub.status.idle": "2021-04-13T14:21:18.009936Z",
     "shell.execute_reply": "2021-04-13T14:21:18.010507Z"
    },
    "papermill": {
     "duration": 0.978172,
     "end_time": "2021-04-13T14:21:18.010920",
     "exception": false,
     "start_time": "2021-04-13T14:21:17.032748",
     "status": "completed"
    },
    "tags": []
   },
   "outputs": [],
   "source": [
    "import numpy as np \n",
    "import pandas as pd\n",
    "import matplotlib.pyplot as plt\n",
    "import seaborn as sns\n",
    "sns.set_style('darkgrid')\n",
    "%matplotlib inline"
   ]
  },
  {
   "cell_type": "code",
   "execution_count": 2,
   "id": "compact-persian",
   "metadata": {
    "execution": {
     "iopub.execute_input": "2021-04-13T14:21:18.072235Z",
     "iopub.status.busy": "2021-04-13T14:21:18.071569Z",
     "iopub.status.idle": "2021-04-13T14:21:18.096037Z",
     "shell.execute_reply": "2021-04-13T14:21:18.096658Z"
    },
    "papermill": {
     "duration": 0.058186,
     "end_time": "2021-04-13T14:21:18.096847",
     "exception": false,
     "start_time": "2021-04-13T14:21:18.038661",
     "status": "completed"
    },
    "tags": []
   },
   "outputs": [],
   "source": [
    "train = pd.read_csv('/kaggle/input/titanic/train.csv')\n",
    "test = pd.read_csv('/kaggle/input/titanic/test.csv')"
   ]
  },
  {
   "cell_type": "code",
   "execution_count": 3,
   "id": "structured-iraqi",
   "metadata": {
    "execution": {
     "iopub.execute_input": "2021-04-13T14:21:18.155524Z",
     "iopub.status.busy": "2021-04-13T14:21:18.154856Z",
     "iopub.status.idle": "2021-04-13T14:21:18.156931Z",
     "shell.execute_reply": "2021-04-13T14:21:18.157366Z"
    },
    "papermill": {
     "duration": 0.033801,
     "end_time": "2021-04-13T14:21:18.157606",
     "exception": false,
     "start_time": "2021-04-13T14:21:18.123805",
     "status": "completed"
    },
    "tags": []
   },
   "outputs": [],
   "source": [
    "df_train=pd.DataFrame(train)\n",
    "df_test=pd.DataFrame(test)"
   ]
  },
  {
   "cell_type": "code",
   "execution_count": 4,
   "id": "satellite-hepatitis",
   "metadata": {
    "execution": {
     "iopub.execute_input": "2021-04-13T14:21:18.213877Z",
     "iopub.status.busy": "2021-04-13T14:21:18.213247Z",
     "iopub.status.idle": "2021-04-13T14:21:18.247251Z",
     "shell.execute_reply": "2021-04-13T14:21:18.246651Z"
    },
    "papermill": {
     "duration": 0.06328,
     "end_time": "2021-04-13T14:21:18.247382",
     "exception": false,
     "start_time": "2021-04-13T14:21:18.184102",
     "status": "completed"
    },
    "tags": []
   },
   "outputs": [
    {
     "data": {
      "text/html": [
       "<div>\n",
       "<style scoped>\n",
       "    .dataframe tbody tr th:only-of-type {\n",
       "        vertical-align: middle;\n",
       "    }\n",
       "\n",
       "    .dataframe tbody tr th {\n",
       "        vertical-align: top;\n",
       "    }\n",
       "\n",
       "    .dataframe thead th {\n",
       "        text-align: right;\n",
       "    }\n",
       "</style>\n",
       "<table border=\"1\" class=\"dataframe\">\n",
       "  <thead>\n",
       "    <tr style=\"text-align: right;\">\n",
       "      <th></th>\n",
       "      <th>PassengerId</th>\n",
       "      <th>Survived</th>\n",
       "      <th>Pclass</th>\n",
       "      <th>Name</th>\n",
       "      <th>Sex</th>\n",
       "      <th>Age</th>\n",
       "      <th>SibSp</th>\n",
       "      <th>Parch</th>\n",
       "      <th>Ticket</th>\n",
       "      <th>Fare</th>\n",
       "      <th>Cabin</th>\n",
       "      <th>Embarked</th>\n",
       "    </tr>\n",
       "  </thead>\n",
       "  <tbody>\n",
       "    <tr>\n",
       "      <th>0</th>\n",
       "      <td>1</td>\n",
       "      <td>0</td>\n",
       "      <td>3</td>\n",
       "      <td>Braund, Mr. Owen Harris</td>\n",
       "      <td>male</td>\n",
       "      <td>22.0</td>\n",
       "      <td>1</td>\n",
       "      <td>0</td>\n",
       "      <td>A/5 21171</td>\n",
       "      <td>7.2500</td>\n",
       "      <td>NaN</td>\n",
       "      <td>S</td>\n",
       "    </tr>\n",
       "    <tr>\n",
       "      <th>1</th>\n",
       "      <td>2</td>\n",
       "      <td>1</td>\n",
       "      <td>1</td>\n",
       "      <td>Cumings, Mrs. John Bradley (Florence Briggs Th...</td>\n",
       "      <td>female</td>\n",
       "      <td>38.0</td>\n",
       "      <td>1</td>\n",
       "      <td>0</td>\n",
       "      <td>PC 17599</td>\n",
       "      <td>71.2833</td>\n",
       "      <td>C85</td>\n",
       "      <td>C</td>\n",
       "    </tr>\n",
       "    <tr>\n",
       "      <th>2</th>\n",
       "      <td>3</td>\n",
       "      <td>1</td>\n",
       "      <td>3</td>\n",
       "      <td>Heikkinen, Miss. Laina</td>\n",
       "      <td>female</td>\n",
       "      <td>26.0</td>\n",
       "      <td>0</td>\n",
       "      <td>0</td>\n",
       "      <td>STON/O2. 3101282</td>\n",
       "      <td>7.9250</td>\n",
       "      <td>NaN</td>\n",
       "      <td>S</td>\n",
       "    </tr>\n",
       "    <tr>\n",
       "      <th>3</th>\n",
       "      <td>4</td>\n",
       "      <td>1</td>\n",
       "      <td>1</td>\n",
       "      <td>Futrelle, Mrs. Jacques Heath (Lily May Peel)</td>\n",
       "      <td>female</td>\n",
       "      <td>35.0</td>\n",
       "      <td>1</td>\n",
       "      <td>0</td>\n",
       "      <td>113803</td>\n",
       "      <td>53.1000</td>\n",
       "      <td>C123</td>\n",
       "      <td>S</td>\n",
       "    </tr>\n",
       "    <tr>\n",
       "      <th>4</th>\n",
       "      <td>5</td>\n",
       "      <td>0</td>\n",
       "      <td>3</td>\n",
       "      <td>Allen, Mr. William Henry</td>\n",
       "      <td>male</td>\n",
       "      <td>35.0</td>\n",
       "      <td>0</td>\n",
       "      <td>0</td>\n",
       "      <td>373450</td>\n",
       "      <td>8.0500</td>\n",
       "      <td>NaN</td>\n",
       "      <td>S</td>\n",
       "    </tr>\n",
       "  </tbody>\n",
       "</table>\n",
       "</div>"
      ],
      "text/plain": [
       "   PassengerId  Survived  Pclass  \\\n",
       "0            1         0       3   \n",
       "1            2         1       1   \n",
       "2            3         1       3   \n",
       "3            4         1       1   \n",
       "4            5         0       3   \n",
       "\n",
       "                                                Name     Sex   Age  SibSp  \\\n",
       "0                            Braund, Mr. Owen Harris    male  22.0      1   \n",
       "1  Cumings, Mrs. John Bradley (Florence Briggs Th...  female  38.0      1   \n",
       "2                             Heikkinen, Miss. Laina  female  26.0      0   \n",
       "3       Futrelle, Mrs. Jacques Heath (Lily May Peel)  female  35.0      1   \n",
       "4                           Allen, Mr. William Henry    male  35.0      0   \n",
       "\n",
       "   Parch            Ticket     Fare Cabin Embarked  \n",
       "0      0         A/5 21171   7.2500   NaN        S  \n",
       "1      0          PC 17599  71.2833   C85        C  \n",
       "2      0  STON/O2. 3101282   7.9250   NaN        S  \n",
       "3      0            113803  53.1000  C123        S  \n",
       "4      0            373450   8.0500   NaN        S  "
      ]
     },
     "execution_count": 4,
     "metadata": {},
     "output_type": "execute_result"
    }
   ],
   "source": [
    "# Here we will combine our datasets to manipulate them together with ease.\n",
    "combine=[df_train,df_test]\n",
    "df_train.head()"
   ]
  },
  {
   "cell_type": "code",
   "execution_count": 5,
   "id": "naughty-alert",
   "metadata": {
    "execution": {
     "iopub.execute_input": "2021-04-13T14:21:18.311696Z",
     "iopub.status.busy": "2021-04-13T14:21:18.310664Z",
     "iopub.status.idle": "2021-04-13T14:21:18.837392Z",
     "shell.execute_reply": "2021-04-13T14:21:18.837904Z"
    },
    "papermill": {
     "duration": 0.563181,
     "end_time": "2021-04-13T14:21:18.838069",
     "exception": false,
     "start_time": "2021-04-13T14:21:18.274888",
     "status": "completed"
    },
    "tags": []
   },
   "outputs": [
    {
     "data": {
      "text/plain": [
       "<AxesSubplot:>"
      ]
     },
     "execution_count": 5,
     "metadata": {},
     "output_type": "execute_result"
    },
    {
     "data": {
      "image/png": "[encoded data removed]",
      "text/plain": [
       "<Figure size 864x360 with 2 Axes>"
      ]
     },
     "metadata": {
      "needs_background": "light"
     },
     "output_type": "display_data"
    }
   ],
   "source": [
    "# We will first observe the correlations between the columns\n",
    "plt.figure(figsize=(12,5))\n",
    "sns.heatmap(df_train.corr(),annot=True,cmap='Greens')"
   ]
  },
  {
   "cell_type": "markdown",
   "id": "associate-bermuda",
   "metadata": {
    "papermill": {
     "duration": 0.028843,
     "end_time": "2021-04-13T14:21:18.896139",
     "exception": false,
     "start_time": "2021-04-13T14:21:18.867296",
     "status": "completed"
    },
    "tags": []
   },
   "source": [
    "***We will plot some figures to get a better understanding of the correlating data columns.***"
   ]
  },
  {
   "cell_type": "code",
   "execution_count": 6,
   "id": "threaded-header",
   "metadata": {
    "execution": {
     "iopub.execute_input": "2021-04-13T14:21:18.962772Z",
     "iopub.status.busy": "2021-04-13T14:21:18.960513Z",
     "iopub.status.idle": "2021-04-13T14:21:19.161114Z",
     "shell.execute_reply": "2021-04-13T14:21:19.160476Z"
    },
    "papermill": {
     "duration": 0.236483,
     "end_time": "2021-04-13T14:21:19.161248",
     "exception": false,
     "start_time": "2021-04-13T14:21:18.924765",
     "status": "completed"
    },
    "tags": []
   },
   "outputs": [
    {
     "data": {
      "text/plain": [
       "<AxesSubplot:xlabel='Survived', ylabel='count'>"
      ]
     },
     "execution_count": 6,
     "metadata": {},
     "output_type": "execute_result"
    },
    {
     "data": {
      "image/png": "[encoded data removed]",
      "text/plain": [
       "<Figure size 864x360 with 1 Axes>"
      ]
     },
     "metadata": {
      "needs_background": "light"
     },
     "output_type": "display_data"
    }
   ],
   "source": [
    "plt.figure(figsize=(12,5))\n",
    "sns.countplot(x='Survived',hue='Pclass',data=df_train)"
   ]
  },
  {
   "cell_type": "code",
   "execution_count": 7,
   "id": "homeless-cycling",
   "metadata": {
    "execution": {
     "iopub.execute_input": "2021-04-13T14:21:19.228462Z",
     "iopub.status.busy": "2021-04-13T14:21:19.227842Z",
     "iopub.status.idle": "2021-04-13T14:21:19.420737Z",
     "shell.execute_reply": "2021-04-13T14:21:19.421378Z"
    },
    "papermill": {
     "duration": 0.23054,
     "end_time": "2021-04-13T14:21:19.421581",
     "exception": false,
     "start_time": "2021-04-13T14:21:19.191041",
     "status": "completed"
    },
    "tags": []
   },
   "outputs": [
    {
     "data": {
      "text/plain": [
       "<AxesSubplot:xlabel='Pclass', ylabel='Age'>"
      ]
     },
     "execution_count": 7,
     "metadata": {},
     "output_type": "execute_result"
    },
    {
     "data": {
      "image/png": "[encoded data removed]",
      "text/plain": [
       "<Figure size 864x360 with 1 Axes>"
      ]
     },
     "metadata": {
      "needs_background": "light"
     },
     "output_type": "display_data"
    }
   ],
   "source": [
    "plt.figure(figsize=(12,5))\n",
    "sns.boxplot(x='Pclass',y='Age',data=df_train)"
   ]
  },
  {
   "cell_type": "code",
   "execution_count": 8,
   "id": "sharp-titanium",
   "metadata": {
    "execution": {
     "iopub.execute_input": "2021-04-13T14:21:19.510271Z",
     "iopub.status.busy": "2021-04-13T14:21:19.492115Z",
     "iopub.status.idle": "2021-04-13T14:21:19.515547Z",
     "shell.execute_reply": "2021-04-13T14:21:19.514854Z"
    },
    "papermill": {
     "duration": 0.062577,
     "end_time": "2021-04-13T14:21:19.515691",
     "exception": false,
     "start_time": "2021-04-13T14:21:19.453114",
     "status": "completed"
    },
    "tags": []
   },
   "outputs": [
    {
     "name": "stdout",
     "output_type": "stream",
     "text": [
      "<class 'pandas.core.frame.DataFrame'>\n",
      "RangeIndex: 891 entries, 0 to 890\n",
      "Data columns (total 12 columns):\n",
      " #   Column       Non-Null Count  Dtype  \n",
      "---  ------       --------------  -----  \n",
      " 0   PassengerId  891 non-null    int64  \n",
      " 1   Survived     891 non-null    int64  \n",
      " 2   Pclass       891 non-null    int64  \n",
      " 3   Name         891 non-null    object \n",
      " 4   Sex          891 non-null    object \n",
      " 5   Age          714 non-null    float64\n",
      " 6   SibSp        891 non-null    int64  \n",
      " 7   Parch        891 non-null    int64  \n",
      " 8   Ticket       891 non-null    object \n",
      " 9   Fare         891 non-null    float64\n",
      " 10  Cabin        204 non-null    object \n",
      " 11  Embarked     889 non-null    object \n",
      "dtypes: float64(2), int64(5), object(5)\n",
      "memory usage: 83.7+ KB\n",
      "Missing Value count for each column:\n"
     ]
    },
    {
     "data": {
      "text/plain": [
       "{'PassengerId': 0,\n",
       " 'Survived': 0,\n",
       " 'Pclass': 0,\n",
       " 'Name': 0,\n",
       " 'Sex': 0,\n",
       " 'Age': 177,\n",
       " 'SibSp': 0,\n",
       " 'Parch': 0,\n",
       " 'Ticket': 0,\n",
       " 'Fare': 0,\n",
       " 'Cabin': 687,\n",
       " 'Embarked': 2}"
      ]
     },
     "execution_count": 8,
     "metadata": {},
     "output_type": "execute_result"
    }
   ],
   "source": [
    "#Quick details of the training data \n",
    "df_train.info()\n",
    "def missing_values(df,columns):\n",
    "    mvalues={}\n",
    "    for col in columns:\n",
    "        c=df[col].isnull().sum()\n",
    "        mvalues[col]=c\n",
    "    return mvalues\n",
    "print('Missing Value count for each column:')\n",
    "missingvalue=missing_values(train,train.columns)\n",
    "missingvalue"
   ]
  },
  {
   "cell_type": "markdown",
   "id": "handy-access",
   "metadata": {
    "papermill": {
     "duration": 0.031635,
     "end_time": "2021-04-13T14:21:19.579200",
     "exception": false,
     "start_time": "2021-04-13T14:21:19.547565",
     "status": "completed"
    },
    "tags": []
   },
   "source": [
    "***We can see 'Cabin', 'Age' and 'Embarked' columns are missing some values. Cabin columns are missing a large portion of data.***"
   ]
  },
  {
   "cell_type": "code",
   "execution_count": 9,
   "id": "federal-retro",
   "metadata": {
    "execution": {
     "iopub.execute_input": "2021-04-13T14:21:19.649337Z",
     "iopub.status.busy": "2021-04-13T14:21:19.648711Z",
     "iopub.status.idle": "2021-04-13T14:21:19.653131Z",
     "shell.execute_reply": "2021-04-13T14:21:19.652618Z"
    },
    "papermill": {
     "duration": 0.042002,
     "end_time": "2021-04-13T14:21:19.653262",
     "exception": false,
     "start_time": "2021-04-13T14:21:19.611260",
     "status": "completed"
    },
    "tags": []
   },
   "outputs": [
    {
     "data": {
      "text/plain": [
       "array([nan, 'C85', 'C123', 'E46', 'G6', 'C103', 'D56', 'A6',\n",
       "       'C23 C25 C27', 'B78', 'D33', 'B30', 'C52', 'B28', 'C83', 'F33',\n",
       "       'F G73', 'E31', 'A5', 'D10 D12', 'D26', 'C110', 'B58 B60', 'E101',\n",
       "       'F E69', 'D47', 'B86', 'F2', 'C2', 'E33', 'B19', 'A7', 'C49', 'F4',\n",
       "       'A32', 'B4', 'B80', 'A31', 'D36', 'D15', 'C93', 'C78', 'D35',\n",
       "       'C87', 'B77', 'E67', 'B94', 'C125', 'C99', 'C118', 'D7', 'A19',\n",
       "       'B49', 'D', 'C22 C26', 'C106', 'C65', 'E36', 'C54',\n",
       "       'B57 B59 B63 B66', 'C7', 'E34', 'C32', 'B18', 'C124', 'C91', 'E40',\n",
       "       'T', 'C128', 'D37', 'B35', 'E50', 'C82', 'B96 B98', 'E10', 'E44',\n",
       "       'A34', 'C104', 'C111', 'C92', 'E38', 'D21', 'E12', 'E63', 'A14',\n",
       "       'B37', 'C30', 'D20', 'B79', 'E25', 'D46', 'B73', 'C95', 'B38',\n",
       "       'B39', 'B22', 'C86', 'C70', 'A16', 'C101', 'C68', 'A10', 'E68',\n",
       "       'B41', 'A20', 'D19', 'D50', 'D9', 'A23', 'B50', 'A26', 'D48',\n",
       "       'E58', 'C126', 'B71', 'B51 B53 B55', 'D49', 'B5', 'B20', 'F G63',\n",
       "       'C62 C64', 'E24', 'C90', 'C45', 'E8', 'B101', 'D45', 'C46', 'D30',\n",
       "       'E121', 'D11', 'E77', 'F38', 'B3', 'D6', 'B82 B84', 'D17', 'A36',\n",
       "       'B102', 'B69', 'E49', 'C47', 'D28', 'E17', 'A24', 'C50', 'B42',\n",
       "       'C148'], dtype=object)"
      ]
     },
     "execution_count": 9,
     "metadata": {},
     "output_type": "execute_result"
    }
   ],
   "source": [
    "df_train['Cabin'].unique()"
   ]
  },
  {
   "cell_type": "markdown",
   "id": "smoking-diagnosis",
   "metadata": {
    "papermill": {
     "duration": 0.031696,
     "end_time": "2021-04-13T14:21:19.717148",
     "exception": false,
     "start_time": "2021-04-13T14:21:19.685452",
     "status": "completed"
    },
    "tags": []
   },
   "source": [
    "***It is better to drop the cabin column. From the Age vs Pclass boxplot graph we can see that the Age column is closely related to the Pclass. We can Ampute the Age column:***"
   ]
  },
  {
   "cell_type": "code",
   "execution_count": 10,
   "id": "caroline-resolution",
   "metadata": {
    "execution": {
     "iopub.execute_input": "2021-04-13T14:21:19.788963Z",
     "iopub.status.busy": "2021-04-13T14:21:19.788280Z",
     "iopub.status.idle": "2021-04-13T14:21:20.154312Z",
     "shell.execute_reply": "2021-04-13T14:21:20.153663Z"
    },
    "papermill": {
     "duration": 0.405472,
     "end_time": "2021-04-13T14:21:20.154468",
     "exception": false,
     "start_time": "2021-04-13T14:21:19.748996",
     "status": "completed"
    },
    "tags": []
   },
   "outputs": [
    {
     "data": {
      "text/plain": [
       "<AxesSubplot:>"
      ]
     },
     "execution_count": 10,
     "metadata": {},
     "output_type": "execute_result"
    },
    {
     "data": {
      "image/png": "[encoded data removed]",
      "text/plain": [
       "<Figure size 864x360 with 2 Axes>"
      ]
     },
     "metadata": {
      "needs_background": "light"
     },
     "output_type": "display_data"
    }
   ],
   "source": [
    "def age_fill(col):\n",
    "    Age=col[0]\n",
    "    Pclass=col[1]\n",
    "    if pd.isnull(Age):\n",
    "        if Pclass==1:\n",
    "            return 37\n",
    "        elif Pclass==2:\n",
    "            return 28\n",
    "        else:\n",
    "            return 24\n",
    "    else:\n",
    "        return Age\n",
    "for dataset in combine:  # It executes on both the df_train and df_test datasets\n",
    "    dataset['Age']=dataset[['Age','Pclass']].apply(age_fill, axis=1)\n",
    "plt.figure(figsize=(12,5))\n",
    "sns.heatmap(df_train.isnull(),yticklabels=False)\n"
   ]
  },
  {
   "cell_type": "markdown",
   "id": "extended-triangle",
   "metadata": {
    "papermill": {
     "duration": 0.032945,
     "end_time": "2021-04-13T14:21:20.220573",
     "exception": false,
     "start_time": "2021-04-13T14:21:20.187628",
     "status": "completed"
    },
    "tags": []
   },
   "source": [
    "***We will drop the Cabin column and also remove those two null('Embarked') columns from the df_train dataframe.***"
   ]
  },
  {
   "cell_type": "code",
   "execution_count": 11,
   "id": "ecological-annotation",
   "metadata": {
    "execution": {
     "iopub.execute_input": "2021-04-13T14:21:20.300457Z",
     "iopub.status.busy": "2021-04-13T14:21:20.297515Z",
     "iopub.status.idle": "2021-04-13T14:21:20.303994Z",
     "shell.execute_reply": "2021-04-13T14:21:20.303294Z"
    },
    "papermill": {
     "duration": 0.049502,
     "end_time": "2021-04-13T14:21:20.304155",
     "exception": false,
     "start_time": "2021-04-13T14:21:20.254653",
     "status": "completed"
    },
    "tags": []
   },
   "outputs": [],
   "source": [
    "#PassengerId column is not giving any info regarding survival probablity. So, we are dropping them as well.\n",
    "for dataset in combine:\n",
    "    dataset.drop(['PassengerId','Name','Cabin'], inplace=True, axis=1)\n",
    "# We are also dropping any row which holds a null value in the training set.\n",
    "df_train.dropna(inplace=True)"
   ]
  },
  {
   "cell_type": "code",
   "execution_count": 12,
   "id": "seventh-fortune",
   "metadata": {
    "execution": {
     "iopub.execute_input": "2021-04-13T14:21:20.380513Z",
     "iopub.status.busy": "2021-04-13T14:21:20.377693Z",
     "iopub.status.idle": "2021-04-13T14:21:20.618304Z",
     "shell.execute_reply": "2021-04-13T14:21:20.617657Z"
    },
    "papermill": {
     "duration": 0.281009,
     "end_time": "2021-04-13T14:21:20.618444",
     "exception": false,
     "start_time": "2021-04-13T14:21:20.337435",
     "status": "completed"
    },
    "tags": []
   },
   "outputs": [
    {
     "data": {
      "text/plain": [
       "<AxesSubplot:xlabel='Survived', ylabel='count'>"
      ]
     },
     "execution_count": 12,
     "metadata": {},
     "output_type": "execute_result"
    },
    {
     "data": {
      "image/png": "[encoded data removed]",
      "text/plain": [
       "<Figure size 864x360 with 1 Axes>"
      ]
     },
     "metadata": {
      "needs_background": "light"
     },
     "output_type": "display_data"
    }
   ],
   "source": [
    "#We will now look at the columns SibSP and Parch.\n",
    "plt.figure(figsize=(12,5))\n",
    "sns.countplot(x='Survived',hue='SibSp',data=df_train)"
   ]
  },
  {
   "cell_type": "code",
   "execution_count": 13,
   "id": "bridal-smell",
   "metadata": {
    "execution": {
     "iopub.execute_input": "2021-04-13T14:21:20.695310Z",
     "iopub.status.busy": "2021-04-13T14:21:20.694586Z",
     "iopub.status.idle": "2021-04-13T14:21:20.914142Z",
     "shell.execute_reply": "2021-04-13T14:21:20.913582Z"
    },
    "papermill": {
     "duration": 0.261514,
     "end_time": "2021-04-13T14:21:20.914292",
     "exception": false,
     "start_time": "2021-04-13T14:21:20.652778",
     "status": "completed"
    },
    "tags": []
   },
   "outputs": [
    {
     "data": {
      "text/plain": [
       "<AxesSubplot:xlabel='Survived', ylabel='count'>"
      ]
     },
     "execution_count": 13,
     "metadata": {},
     "output_type": "execute_result"
    },
    {
     "data": {
      "image/png": "[encoded data removed]",
      "text/plain": [
       "<Figure size 864x360 with 1 Axes>"
      ]
     },
     "metadata": {
      "needs_background": "light"
     },
     "output_type": "display_data"
    }
   ],
   "source": [
    "plt.figure(figsize=(12,5))\n",
    "sns.countplot(x='Survived',hue='Parch',data=df_train)"
   ]
  },
  {
   "cell_type": "markdown",
   "id": "registered-dealing",
   "metadata": {
    "papermill": {
     "duration": 0.03531,
     "end_time": "2021-04-13T14:21:20.985925",
     "exception": false,
     "start_time": "2021-04-13T14:21:20.950615",
     "status": "completed"
    },
    "tags": []
   },
   "source": [
    "***We can see from the above two countplots that, those who had neither any spouse/children nor any parents had a lower chance of survival. So, we can create a new column, 'Alone' merging these two columns info.***"
   ]
  },
  {
   "cell_type": "code",
   "execution_count": 14,
   "id": "average-steam",
   "metadata": {
    "execution": {
     "iopub.execute_input": "2021-04-13T14:21:21.069948Z",
     "iopub.status.busy": "2021-04-13T14:21:21.069259Z",
     "iopub.status.idle": "2021-04-13T14:21:21.105434Z",
     "shell.execute_reply": "2021-04-13T14:21:21.104923Z"
    },
    "papermill": {
     "duration": 0.083864,
     "end_time": "2021-04-13T14:21:21.105611",
     "exception": false,
     "start_time": "2021-04-13T14:21:21.021747",
     "status": "completed"
    },
    "tags": []
   },
   "outputs": [
    {
     "data": {
      "text/html": [
       "<div>\n",
       "<style scoped>\n",
       "    .dataframe tbody tr th:only-of-type {\n",
       "        vertical-align: middle;\n",
       "    }\n",
       "\n",
       "    .dataframe tbody tr th {\n",
       "        vertical-align: top;\n",
       "    }\n",
       "\n",
       "    .dataframe thead th {\n",
       "        text-align: right;\n",
       "    }\n",
       "</style>\n",
       "<table border=\"1\" class=\"dataframe\">\n",
       "  <thead>\n",
       "    <tr style=\"text-align: right;\">\n",
       "      <th></th>\n",
       "      <th>Survived</th>\n",
       "      <th>Pclass</th>\n",
       "      <th>Sex</th>\n",
       "      <th>Age</th>\n",
       "      <th>Ticket</th>\n",
       "      <th>Fare</th>\n",
       "      <th>Embarked</th>\n",
       "      <th>Alone</th>\n",
       "    </tr>\n",
       "  </thead>\n",
       "  <tbody>\n",
       "    <tr>\n",
       "      <th>0</th>\n",
       "      <td>0</td>\n",
       "      <td>3</td>\n",
       "      <td>male</td>\n",
       "      <td>22.0</td>\n",
       "      <td>A/5 21171</td>\n",
       "      <td>7.2500</td>\n",
       "      <td>S</td>\n",
       "      <td>0</td>\n",
       "    </tr>\n",
       "    <tr>\n",
       "      <th>1</th>\n",
       "      <td>1</td>\n",
       "      <td>1</td>\n",
       "      <td>female</td>\n",
       "      <td>38.0</td>\n",
       "      <td>PC 17599</td>\n",
       "      <td>71.2833</td>\n",
       "      <td>C</td>\n",
       "      <td>0</td>\n",
       "    </tr>\n",
       "    <tr>\n",
       "      <th>2</th>\n",
       "      <td>1</td>\n",
       "      <td>3</td>\n",
       "      <td>female</td>\n",
       "      <td>26.0</td>\n",
       "      <td>STON/O2. 3101282</td>\n",
       "      <td>7.9250</td>\n",
       "      <td>S</td>\n",
       "      <td>1</td>\n",
       "    </tr>\n",
       "    <tr>\n",
       "      <th>3</th>\n",
       "      <td>1</td>\n",
       "      <td>1</td>\n",
       "      <td>female</td>\n",
       "      <td>35.0</td>\n",
       "      <td>113803</td>\n",
       "      <td>53.1000</td>\n",
       "      <td>S</td>\n",
       "      <td>0</td>\n",
       "    </tr>\n",
       "    <tr>\n",
       "      <th>4</th>\n",
       "      <td>0</td>\n",
       "      <td>3</td>\n",
       "      <td>male</td>\n",
       "      <td>35.0</td>\n",
       "      <td>373450</td>\n",
       "      <td>8.0500</td>\n",
       "      <td>S</td>\n",
       "      <td>1</td>\n",
       "    </tr>\n",
       "  </tbody>\n",
       "</table>\n",
       "</div>"
      ],
      "text/plain": [
       "   Survived  Pclass     Sex   Age            Ticket     Fare Embarked  Alone\n",
       "0         0       3    male  22.0         A/5 21171   7.2500        S      0\n",
       "1         1       1  female  38.0          PC 17599  71.2833        C      0\n",
       "2         1       3  female  26.0  STON/O2. 3101282   7.9250        S      1\n",
       "3         1       1  female  35.0            113803  53.1000        S      0\n",
       "4         0       3    male  35.0            373450   8.0500        S      1"
      ]
     },
     "execution_count": 14,
     "metadata": {},
     "output_type": "execute_result"
    }
   ],
   "source": [
    "def alone_column(col):\n",
    "    sib=col[0]\n",
    "    par=col[1]\n",
    "    total=sib+par\n",
    "    if total==0:\n",
    "        return 1\n",
    "    else:\n",
    "        return 0\n",
    "for dataset in combine:\n",
    "    dataset['Alone']=dataset[['SibSp','Parch']].apply(alone_column,axis=1)\n",
    "    dataset.drop(['SibSp','Parch'], axis=1, inplace=True)\n",
    "df_train.head()"
   ]
  },
  {
   "cell_type": "code",
   "execution_count": 15,
   "id": "conceptual-blond",
   "metadata": {
    "execution": {
     "iopub.execute_input": "2021-04-13T14:21:21.183865Z",
     "iopub.status.busy": "2021-04-13T14:21:21.183184Z",
     "iopub.status.idle": "2021-04-13T14:21:21.186111Z",
     "shell.execute_reply": "2021-04-13T14:21:21.186698Z"
    },
    "papermill": {
     "duration": 0.045203,
     "end_time": "2021-04-13T14:21:21.186866",
     "exception": false,
     "start_time": "2021-04-13T14:21:21.141663",
     "status": "completed"
    },
    "tags": []
   },
   "outputs": [
    {
     "data": {
      "text/plain": [
       "array(['male', 'female'], dtype=object)"
      ]
     },
     "execution_count": 15,
     "metadata": {},
     "output_type": "execute_result"
    }
   ],
   "source": [
    "# We will now look at the sex and embarked columns.\n",
    "df_train['Sex'].unique()"
   ]
  },
  {
   "cell_type": "code",
   "execution_count": 16,
   "id": "polish-mumbai",
   "metadata": {
    "execution": {
     "iopub.execute_input": "2021-04-13T14:21:21.263432Z",
     "iopub.status.busy": "2021-04-13T14:21:21.262744Z",
     "iopub.status.idle": "2021-04-13T14:21:21.275290Z",
     "shell.execute_reply": "2021-04-13T14:21:21.275831Z"
    },
    "papermill": {
     "duration": 0.052153,
     "end_time": "2021-04-13T14:21:21.276018",
     "exception": false,
     "start_time": "2021-04-13T14:21:21.223865",
     "status": "completed"
    },
    "tags": []
   },
   "outputs": [],
   "source": [
    "# Now sex column will hold 1 for female and 0 for male \n",
    "for dataset in combine:\n",
    "    dataset['Sex'] = dataset['Sex'].map( {'female': 1, 'male': 0} ).astype(int)"
   ]
  },
  {
   "cell_type": "code",
   "execution_count": 17,
   "id": "arranged-coordinate",
   "metadata": {
    "execution": {
     "iopub.execute_input": "2021-04-13T14:21:21.351966Z",
     "iopub.status.busy": "2021-04-13T14:21:21.351310Z",
     "iopub.status.idle": "2021-04-13T14:21:21.356390Z",
     "shell.execute_reply": "2021-04-13T14:21:21.356966Z"
    },
    "papermill": {
     "duration": 0.044905,
     "end_time": "2021-04-13T14:21:21.357144",
     "exception": false,
     "start_time": "2021-04-13T14:21:21.312239",
     "status": "completed"
    },
    "tags": []
   },
   "outputs": [
    {
     "data": {
      "text/plain": [
       "array(['S', 'C', 'Q'], dtype=object)"
      ]
     },
     "execution_count": 17,
     "metadata": {},
     "output_type": "execute_result"
    }
   ],
   "source": [
    "df_train['Embarked'].unique()\n",
    "# We will do the similiar for the 'Embarked' column as it has 3 unique values."
   ]
  },
  {
   "cell_type": "code",
   "execution_count": 18,
   "id": "pressing-mileage",
   "metadata": {
    "execution": {
     "iopub.execute_input": "2021-04-13T14:21:21.433141Z",
     "iopub.status.busy": "2021-04-13T14:21:21.432531Z",
     "iopub.status.idle": "2021-04-13T14:21:21.439085Z",
     "shell.execute_reply": "2021-04-13T14:21:21.439611Z"
    },
    "papermill": {
     "duration": 0.046113,
     "end_time": "2021-04-13T14:21:21.439775",
     "exception": false,
     "start_time": "2021-04-13T14:21:21.393662",
     "status": "completed"
    },
    "tags": []
   },
   "outputs": [],
   "source": [
    "for dataset in combine:\n",
    "    dataset['Embarked'] = dataset['Embarked'].map( {'S': 1, 'C': 0, 'Q':2} ).astype(int)\n"
   ]
  },
  {
   "cell_type": "code",
   "execution_count": 19,
   "id": "mexican-block",
   "metadata": {
    "execution": {
     "iopub.execute_input": "2021-04-13T14:21:21.516282Z",
     "iopub.status.busy": "2021-04-13T14:21:21.515673Z",
     "iopub.status.idle": "2021-04-13T14:21:21.528584Z",
     "shell.execute_reply": "2021-04-13T14:21:21.529108Z"
    },
    "papermill": {
     "duration": 0.05299,
     "end_time": "2021-04-13T14:21:21.529280",
     "exception": false,
     "start_time": "2021-04-13T14:21:21.476290",
     "status": "completed"
    },
    "tags": []
   },
   "outputs": [
    {
     "data": {
      "text/html": [
       "<div>\n",
       "<style scoped>\n",
       "    .dataframe tbody tr th:only-of-type {\n",
       "        vertical-align: middle;\n",
       "    }\n",
       "\n",
       "    .dataframe tbody tr th {\n",
       "        vertical-align: top;\n",
       "    }\n",
       "\n",
       "    .dataframe thead th {\n",
       "        text-align: right;\n",
       "    }\n",
       "</style>\n",
       "<table border=\"1\" class=\"dataframe\">\n",
       "  <thead>\n",
       "    <tr style=\"text-align: right;\">\n",
       "      <th></th>\n",
       "      <th>Survived</th>\n",
       "      <th>Pclass</th>\n",
       "      <th>Sex</th>\n",
       "      <th>Age</th>\n",
       "      <th>Embarked</th>\n",
       "      <th>Alone</th>\n",
       "    </tr>\n",
       "  </thead>\n",
       "  <tbody>\n",
       "    <tr>\n",
       "      <th>0</th>\n",
       "      <td>0</td>\n",
       "      <td>3</td>\n",
       "      <td>0</td>\n",
       "      <td>22.0</td>\n",
       "      <td>1</td>\n",
       "      <td>0</td>\n",
       "    </tr>\n",
       "    <tr>\n",
       "      <th>1</th>\n",
       "      <td>1</td>\n",
       "      <td>1</td>\n",
       "      <td>1</td>\n",
       "      <td>38.0</td>\n",
       "      <td>0</td>\n",
       "      <td>0</td>\n",
       "    </tr>\n",
       "  </tbody>\n",
       "</table>\n",
       "</div>"
      ],
      "text/plain": [
       "   Survived  Pclass  Sex   Age  Embarked  Alone\n",
       "0         0       3    0  22.0         1      0\n",
       "1         1       1    1  38.0         0      0"
      ]
     },
     "execution_count": 19,
     "metadata": {},
     "output_type": "execute_result"
    }
   ],
   "source": [
    "df_train.drop(['Ticket','Fare'],axis=1,inplace=True)\n",
    "df_test.drop(['Ticket','Fare'],axis=1,inplace=True)\n",
    "df_train.head(2)"
   ]
  },
  {
   "cell_type": "code",
   "execution_count": 20,
   "id": "suspected-specialist",
   "metadata": {
    "execution": {
     "iopub.execute_input": "2021-04-13T14:21:21.606431Z",
     "iopub.status.busy": "2021-04-13T14:21:21.605804Z",
     "iopub.status.idle": "2021-04-13T14:21:21.616073Z",
     "shell.execute_reply": "2021-04-13T14:21:21.615570Z"
    },
    "papermill": {
     "duration": 0.050196,
     "end_time": "2021-04-13T14:21:21.616223",
     "exception": false,
     "start_time": "2021-04-13T14:21:21.566027",
     "status": "completed"
    },
    "tags": []
   },
   "outputs": [
    {
     "data": {
      "text/html": [
       "<div>\n",
       "<style scoped>\n",
       "    .dataframe tbody tr th:only-of-type {\n",
       "        vertical-align: middle;\n",
       "    }\n",
       "\n",
       "    .dataframe tbody tr th {\n",
       "        vertical-align: top;\n",
       "    }\n",
       "\n",
       "    .dataframe thead th {\n",
       "        text-align: right;\n",
       "    }\n",
       "</style>\n",
       "<table border=\"1\" class=\"dataframe\">\n",
       "  <thead>\n",
       "    <tr style=\"text-align: right;\">\n",
       "      <th></th>\n",
       "      <th>Pclass</th>\n",
       "      <th>Sex</th>\n",
       "      <th>Age</th>\n",
       "      <th>Embarked</th>\n",
       "      <th>Alone</th>\n",
       "    </tr>\n",
       "  </thead>\n",
       "  <tbody>\n",
       "    <tr>\n",
       "      <th>0</th>\n",
       "      <td>3</td>\n",
       "      <td>0</td>\n",
       "      <td>34.5</td>\n",
       "      <td>2</td>\n",
       "      <td>1</td>\n",
       "    </tr>\n",
       "    <tr>\n",
       "      <th>1</th>\n",
       "      <td>3</td>\n",
       "      <td>1</td>\n",
       "      <td>47.0</td>\n",
       "      <td>1</td>\n",
       "      <td>0</td>\n",
       "    </tr>\n",
       "  </tbody>\n",
       "</table>\n",
       "</div>"
      ],
      "text/plain": [
       "   Pclass  Sex   Age  Embarked  Alone\n",
       "0       3    0  34.5         2      1\n",
       "1       3    1  47.0         1      0"
      ]
     },
     "execution_count": 20,
     "metadata": {},
     "output_type": "execute_result"
    }
   ],
   "source": [
    "df_test.head(2)"
   ]
  },
  {
   "cell_type": "code",
   "execution_count": 21,
   "id": "micro-charles",
   "metadata": {
    "execution": {
     "iopub.execute_input": "2021-04-13T14:21:21.695080Z",
     "iopub.status.busy": "2021-04-13T14:21:21.694442Z",
     "iopub.status.idle": "2021-04-13T14:21:21.699309Z",
     "shell.execute_reply": "2021-04-13T14:21:21.699872Z"
    },
    "papermill": {
     "duration": 0.046181,
     "end_time": "2021-04-13T14:21:21.700105",
     "exception": false,
     "start_time": "2021-04-13T14:21:21.653924",
     "status": "completed"
    },
    "tags": []
   },
   "outputs": [],
   "source": [
    "#Splitting the 'Survived' Column from the df_train dataframe\n",
    "train_y=df_train['Survived']\n",
    "df_train.drop(['Survived'],axis=1,inplace=True)"
   ]
  },
  {
   "cell_type": "markdown",
   "id": "saved-muscle",
   "metadata": {
    "papermill": {
     "duration": 0.037093,
     "end_time": "2021-04-13T14:21:21.774259",
     "exception": false,
     "start_time": "2021-04-13T14:21:21.737166",
     "status": "completed"
    },
    "tags": []
   },
   "source": [
    "# KNeighborsClassifier"
   ]
  },
  {
   "cell_type": "markdown",
   "id": "packed-official",
   "metadata": {
    "papermill": {
     "duration": 0.037174,
     "end_time": "2021-04-13T14:21:21.848846",
     "exception": false,
     "start_time": "2021-04-13T14:21:21.811672",
     "status": "completed"
    },
    "tags": []
   },
   "source": [
    "Now here in this notebook, i have only used KNeighborsClassifier model to train and predict data. I will include more models in future. "
   ]
  },
  {
   "cell_type": "code",
   "execution_count": 22,
   "id": "caroline-composition",
   "metadata": {
    "execution": {
     "iopub.execute_input": "2021-04-13T14:21:21.926845Z",
     "iopub.status.busy": "2021-04-13T14:21:21.926196Z",
     "iopub.status.idle": "2021-04-13T14:21:22.329391Z",
     "shell.execute_reply": "2021-04-13T14:21:22.328712Z"
    },
    "papermill": {
     "duration": 0.443274,
     "end_time": "2021-04-13T14:21:22.329562",
     "exception": false,
     "start_time": "2021-04-13T14:21:21.886288",
     "status": "completed"
    },
    "tags": []
   },
   "outputs": [],
   "source": [
    "# Libraries import\n",
    "from sklearn.preprocessing import StandardScaler\n",
    "from sklearn.model_selection import train_test_split\n",
    "from sklearn.neighbors import KNeighborsClassifier\n",
    "from sklearn.metrics import classification_report,confusion_matrix"
   ]
  },
  {
   "cell_type": "code",
   "execution_count": 23,
   "id": "sharing-vienna",
   "metadata": {
    "execution": {
     "iopub.execute_input": "2021-04-13T14:21:22.424324Z",
     "iopub.status.busy": "2021-04-13T14:21:22.423609Z",
     "iopub.status.idle": "2021-04-13T14:21:22.428156Z",
     "shell.execute_reply": "2021-04-13T14:21:22.427657Z"
    },
    "papermill": {
     "duration": 0.060317,
     "end_time": "2021-04-13T14:21:22.428299",
     "exception": false,
     "start_time": "2021-04-13T14:21:22.367982",
     "status": "completed"
    },
    "tags": []
   },
   "outputs": [
    {
     "data": {
      "text/html": [
       "<div>\n",
       "<style scoped>\n",
       "    .dataframe tbody tr th:only-of-type {\n",
       "        vertical-align: middle;\n",
       "    }\n",
       "\n",
       "    .dataframe tbody tr th {\n",
       "        vertical-align: top;\n",
       "    }\n",
       "\n",
       "    .dataframe thead th {\n",
       "        text-align: right;\n",
       "    }\n",
       "</style>\n",
       "<table border=\"1\" class=\"dataframe\">\n",
       "  <thead>\n",
       "    <tr style=\"text-align: right;\">\n",
       "      <th></th>\n",
       "      <th>Pclass</th>\n",
       "      <th>Sex</th>\n",
       "      <th>Age</th>\n",
       "      <th>Embarked</th>\n",
       "      <th>Alone</th>\n",
       "    </tr>\n",
       "  </thead>\n",
       "  <tbody>\n",
       "    <tr>\n",
       "      <th>0</th>\n",
       "      <td>0.825209</td>\n",
       "      <td>-0.735342</td>\n",
       "      <td>-0.530714</td>\n",
       "      <td>0.198804</td>\n",
       "      <td>-1.229349</td>\n",
       "    </tr>\n",
       "    <tr>\n",
       "      <th>1</th>\n",
       "      <td>-1.572211</td>\n",
       "      <td>1.359911</td>\n",
       "      <td>0.681145</td>\n",
       "      <td>-1.743356</td>\n",
       "      <td>-1.229349</td>\n",
       "    </tr>\n",
       "    <tr>\n",
       "      <th>2</th>\n",
       "      <td>0.825209</td>\n",
       "      <td>1.359911</td>\n",
       "      <td>-0.227749</td>\n",
       "      <td>0.198804</td>\n",
       "      <td>0.813439</td>\n",
       "    </tr>\n",
       "    <tr>\n",
       "      <th>3</th>\n",
       "      <td>-1.572211</td>\n",
       "      <td>1.359911</td>\n",
       "      <td>0.453921</td>\n",
       "      <td>0.198804</td>\n",
       "      <td>-1.229349</td>\n",
       "    </tr>\n",
       "    <tr>\n",
       "      <th>4</th>\n",
       "      <td>0.825209</td>\n",
       "      <td>-0.735342</td>\n",
       "      <td>0.453921</td>\n",
       "      <td>0.198804</td>\n",
       "      <td>0.813439</td>\n",
       "    </tr>\n",
       "  </tbody>\n",
       "</table>\n",
       "</div>"
      ],
      "text/plain": [
       "     Pclass       Sex       Age  Embarked     Alone\n",
       "0  0.825209 -0.735342 -0.530714  0.198804 -1.229349\n",
       "1 -1.572211  1.359911  0.681145 -1.743356 -1.229349\n",
       "2  0.825209  1.359911 -0.227749  0.198804  0.813439\n",
       "3 -1.572211  1.359911  0.453921  0.198804 -1.229349\n",
       "4  0.825209 -0.735342  0.453921  0.198804  0.813439"
      ]
     },
     "execution_count": 23,
     "metadata": {},
     "output_type": "execute_result"
    }
   ],
   "source": [
    "scaler=StandardScaler()\n",
    "scaler_train=scaler.fit_transform(df_train)\n",
    "scaled_df_train=pd.DataFrame(scaler_train,columns=df_train.columns) \n",
    "#S.scaled train data excluding 'Survived' column\n",
    "scaled_df_train.head()    "
   ]
  },
  {
   "cell_type": "code",
   "execution_count": 24,
   "id": "known-afternoon",
   "metadata": {
    "execution": {
     "iopub.execute_input": "2021-04-13T14:21:22.514409Z",
     "iopub.status.busy": "2021-04-13T14:21:22.513381Z",
     "iopub.status.idle": "2021-04-13T14:21:22.539242Z",
     "shell.execute_reply": "2021-04-13T14:21:22.538727Z"
    },
    "papermill": {
     "duration": 0.072964,
     "end_time": "2021-04-13T14:21:22.539383",
     "exception": false,
     "start_time": "2021-04-13T14:21:22.466419",
     "status": "completed"
    },
    "tags": []
   },
   "outputs": [
    {
     "name": "stdout",
     "output_type": "stream",
     "text": [
      "              precision    recall  f1-score   support\n",
      "\n",
      "           0       0.83      0.83      0.83       109\n",
      "           1       0.72      0.72      0.72        69\n",
      "\n",
      "    accuracy                           0.79       178\n",
      "   macro avg       0.78      0.78      0.78       178\n",
      "weighted avg       0.79      0.79      0.79       178\n",
      "\n",
      "[[90 19]\n",
      " [19 50]]\n"
     ]
    }
   ],
   "source": [
    "X=scaled_df_train\n",
    "y=train_y\n",
    "X_train, X_test, y_train, y_test = train_test_split(X, y, test_size=0.20, random_state=42)\n",
    "knn=KNeighborsClassifier(n_neighbors=5) # initial test with value 5\n",
    "knn.fit(X_train,y_train)\n",
    "predknn=knn.predict(X_test)\n",
    "print(classification_report(y_test,predknn))\n",
    "print(confusion_matrix(y_test,predknn))"
   ]
  },
  {
   "cell_type": "code",
   "execution_count": 25,
   "id": "mathematical-candle",
   "metadata": {
    "execution": {
     "iopub.execute_input": "2021-04-13T14:21:22.626930Z",
     "iopub.status.busy": "2021-04-13T14:21:22.624005Z",
     "iopub.status.idle": "2021-04-13T14:21:23.481028Z",
     "shell.execute_reply": "2021-04-13T14:21:23.481580Z"
    },
    "papermill": {
     "duration": 0.904211,
     "end_time": "2021-04-13T14:21:23.481754",
     "exception": false,
     "start_time": "2021-04-13T14:21:22.577543",
     "status": "completed"
    },
    "tags": []
   },
   "outputs": [
    {
     "data": {
      "text/plain": [
       "[<matplotlib.lines.Line2D at 0x7fd0c3fc6350>]"
      ]
     },
     "execution_count": 25,
     "metadata": {},
     "output_type": "execute_result"
    },
    {
     "data": {
      "image/png": "[encoded data removed]",
      "text/plain": [
       "<Figure size 720x360 with 1 Axes>"
      ]
     },
     "metadata": {
      "needs_background": "light"
     },
     "output_type": "display_data"
    }
   ],
   "source": [
    "#Now we will choose best n_neighbors values for KN Model\n",
    "error_rate=[]\n",
    "for i in range(1,40):\n",
    "    knn=KNeighborsClassifier(n_neighbors=i)\n",
    "    knn.fit(X_train,y_train)\n",
    "    pred=knn.predict(X_test)\n",
    "    error_rate.append(np.mean(pred != y_test))\n",
    "plt.figure(figsize=(10,5))\n",
    "plt.plot(range(1,40),error_rate,color='blue',linestyle='dashed')"
   ]
  },
  {
   "cell_type": "markdown",
   "id": "devoted-submission",
   "metadata": {
    "papermill": {
     "duration": 0.040007,
     "end_time": "2021-04-13T14:21:23.580556",
     "exception": false,
     "start_time": "2021-04-13T14:21:23.540549",
     "status": "completed"
    },
    "tags": []
   },
   "source": [
    "# Now we train the whole train set and test the data against the model\n"
   ]
  },
  {
   "cell_type": "code",
   "execution_count": 26,
   "id": "pediatric-import",
   "metadata": {
    "execution": {
     "iopub.execute_input": "2021-04-13T14:21:23.681206Z",
     "iopub.status.busy": "2021-04-13T14:21:23.680187Z",
     "iopub.status.idle": "2021-04-13T14:21:23.686970Z",
     "shell.execute_reply": "2021-04-13T14:21:23.687467Z"
    },
    "papermill": {
     "duration": 0.064883,
     "end_time": "2021-04-13T14:21:23.687662",
     "exception": false,
     "start_time": "2021-04-13T14:21:23.622779",
     "status": "completed"
    },
    "tags": []
   },
   "outputs": [],
   "source": [
    "scaler_test=StandardScaler()\n",
    "test_df=scaler_test.fit_transform(df_test)\n",
    "test_df=pd.DataFrame(test_df,columns=df_test.columns)"
   ]
  },
  {
   "cell_type": "code",
   "execution_count": 27,
   "id": "editorial-greenhouse",
   "metadata": {
    "execution": {
     "iopub.execute_input": "2021-04-13T14:21:23.775145Z",
     "iopub.status.busy": "2021-04-13T14:21:23.774194Z",
     "iopub.status.idle": "2021-04-13T14:21:23.802032Z",
     "shell.execute_reply": "2021-04-13T14:21:23.801339Z"
    },
    "papermill": {
     "duration": 0.074245,
     "end_time": "2021-04-13T14:21:23.802202",
     "exception": false,
     "start_time": "2021-04-13T14:21:23.727957",
     "status": "completed"
    },
    "tags": []
   },
   "outputs": [],
   "source": [
    "knn1=KNeighborsClassifier(n_neighbors=18)\n",
    "knn1.fit(X,y)\n",
    "predict=knn1.predict(test_df)"
   ]
  },
  {
   "cell_type": "code",
   "execution_count": 28,
   "id": "anonymous-blink",
   "metadata": {
    "execution": {
     "iopub.execute_input": "2021-04-13T14:21:23.889947Z",
     "iopub.status.busy": "2021-04-13T14:21:23.888996Z",
     "iopub.status.idle": "2021-04-13T14:21:23.896970Z",
     "shell.execute_reply": "2021-04-13T14:21:23.897663Z"
    },
    "papermill": {
     "duration": 0.055993,
     "end_time": "2021-04-13T14:21:23.897890",
     "exception": false,
     "start_time": "2021-04-13T14:21:23.841897",
     "status": "completed"
    },
    "tags": []
   },
   "outputs": [
    {
     "name": "stdout",
     "output_type": "stream",
     "text": [
      "Submission saved!\n"
     ]
    }
   ],
   "source": [
    "submission=pd.DataFrame({'PassengerId':test.PassengerId,'Survived':predict})\n",
    "submission.to_csv('submission.csv',index=False)\n",
    "print('Submission saved!')"
   ]
  },
  {
   "cell_type": "markdown",
   "id": "reflected-liberty",
   "metadata": {
    "papermill": {
     "duration": 0.040308,
     "end_time": "2021-04-13T14:21:23.986372",
     "exception": false,
     "start_time": "2021-04-13T14:21:23.946064",
     "status": "completed"
    },
    "tags": []
   },
   "source": [
    "# Thanks for reading. Don't forget to upvote the work. Good luck kaggling!"
   ]
  }
 ],
 "metadata": {
  "kernelspec": {
   "display_name": "Python 3",
   "language": "python",
   "name": "python3"
  },
  "language_info": {
   "codemirror_mode": {
    "name": "ipython",
    "version": 3
   },
   "file_extension": ".py",
   "mimetype": "text/x-python",
   "name": "python",
   "nbconvert_exporter": "python",
   "pygments_lexer": "ipython3",
   "version": "3.7.9"
  },
  "papermill": {
   "default_parameters": {},
   "duration": 14.837492,
   "end_time": "2021-04-13T14:21:25.698283",
   "environment_variables": {},
   "exception": null,
   "input_path": "__notebook__.ipynb",
   "output_path": "__notebook__.ipynb",
   "parameters": {},
   "start_time": "2021-04-13T14:21:10.860791",
   "version": "2.3.2"
  }
 },
 "nbformat": 4,
 "nbformat_minor": 5
}

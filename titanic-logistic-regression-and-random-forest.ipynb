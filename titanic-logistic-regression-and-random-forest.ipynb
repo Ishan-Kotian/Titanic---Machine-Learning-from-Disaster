{
 "cells": [
  {
   "cell_type": "code",
   "execution_count": 1,
   "id": "pleased-pension",
   "metadata": {
    "_cell_guid": "b1076dfc-b9ad-4769-8c92-a6c4dae69d19",
    "_uuid": "8f2839f25d086af736a60e9eeb907d3b93b6e0e5",
    "execution": {
     "iopub.execute_input": "2021-04-05T09:36:59.910059Z",
     "iopub.status.busy": "2021-04-05T09:36:59.909199Z",
     "iopub.status.idle": "2021-04-05T09:36:59.915549Z",
     "shell.execute_reply": "2021-04-05T09:36:59.914548Z"
    },
    "papermill": {
     "duration": 0.038713,
     "end_time": "2021-04-05T09:36:59.915780",
     "exception": false,
     "start_time": "2021-04-05T09:36:59.877067",
     "status": "completed"
    },
    "tags": []
   },
   "outputs": [
    {
     "name": "stdout",
     "output_type": "stream",
     "text": [
      "/kaggle/input/titanic/train.csv\n",
      "/kaggle/input/titanic/test.csv\n",
      "/kaggle/input/titanic/gender_submission.csv\n"
     ]
    }
   ],
   "source": [
    "# This Python 3 environment comes with many helpful analytics libraries installed\n",
    "# It is defined by the kaggle/python Docker image: https://github.com/kaggle/docker-python\n",
    "# For example, here's several helpful packages to load\n",
    "\n",
    "import numpy as np # linear algebra\n",
    "import pandas as pd # data processing, CSV file I/O (e.g. pd.read_csv)\n",
    "\n",
    "# Input data files are available in the read-only \"../input/\" directory\n",
    "# For example, running this (by clicking run or pressing Shift+Enter) will list all files under the input directory\n",
    "\n",
    "import os\n",
    "for dirname, _, filenames in os.walk('/kaggle/input'):\n",
    "    for filename in filenames:\n",
    "        print(os.path.join(dirname, filename))\n",
    "\n",
    "# You can write up to 20GB to the current directory (/kaggle/working/) that gets preserved as output when you create a version using \"Save & Run All\" \n",
    "# You can also write temporary files to /kaggle/temp/, but they won't be saved outside of the current session"
   ]
  },
  {
   "cell_type": "code",
   "execution_count": 2,
   "id": "dedicated-armenia",
   "metadata": {
    "execution": {
     "iopub.execute_input": "2021-04-05T09:36:59.970575Z",
     "iopub.status.busy": "2021-04-05T09:36:59.969728Z",
     "iopub.status.idle": "2021-04-05T09:37:00.977163Z",
     "shell.execute_reply": "2021-04-05T09:37:00.976336Z"
    },
    "papermill": {
     "duration": 1.036679,
     "end_time": "2021-04-05T09:37:00.977322",
     "exception": false,
     "start_time": "2021-04-05T09:36:59.940643",
     "status": "completed"
    },
    "tags": []
   },
   "outputs": [],
   "source": [
    "import seaborn as sns\n",
    "sns.set_theme(style='darkgrid')\n",
    "import matplotlib as mpl\n",
    "import matplotlib.pyplot as plt \n",
    "%matplotlib inline"
   ]
  },
  {
   "cell_type": "code",
   "execution_count": 3,
   "id": "operational-watershed",
   "metadata": {
    "execution": {
     "iopub.execute_input": "2021-04-05T09:37:01.032315Z",
     "iopub.status.busy": "2021-04-05T09:37:01.031428Z",
     "iopub.status.idle": "2021-04-05T09:37:01.097244Z",
     "shell.execute_reply": "2021-04-05T09:37:01.096549Z"
    },
    "papermill": {
     "duration": 0.095662,
     "end_time": "2021-04-05T09:37:01.097404",
     "exception": false,
     "start_time": "2021-04-05T09:37:01.001742",
     "status": "completed"
    },
    "tags": []
   },
   "outputs": [
    {
     "data": {
      "text/html": [
       "<div>\n",
       "<style scoped>\n",
       "    .dataframe tbody tr th:only-of-type {\n",
       "        vertical-align: middle;\n",
       "    }\n",
       "\n",
       "    .dataframe tbody tr th {\n",
       "        vertical-align: top;\n",
       "    }\n",
       "\n",
       "    .dataframe thead th {\n",
       "        text-align: right;\n",
       "    }\n",
       "</style>\n",
       "<table border=\"1\" class=\"dataframe\">\n",
       "  <thead>\n",
       "    <tr style=\"text-align: right;\">\n",
       "      <th></th>\n",
       "      <th>Survived</th>\n",
       "      <th>Pclass</th>\n",
       "      <th>Name</th>\n",
       "      <th>Sex</th>\n",
       "      <th>Age</th>\n",
       "      <th>SibSp</th>\n",
       "      <th>Parch</th>\n",
       "      <th>Ticket</th>\n",
       "      <th>Fare</th>\n",
       "      <th>Cabin</th>\n",
       "      <th>Embarked</th>\n",
       "    </tr>\n",
       "    <tr>\n",
       "      <th>PassengerId</th>\n",
       "      <th></th>\n",
       "      <th></th>\n",
       "      <th></th>\n",
       "      <th></th>\n",
       "      <th></th>\n",
       "      <th></th>\n",
       "      <th></th>\n",
       "      <th></th>\n",
       "      <th></th>\n",
       "      <th></th>\n",
       "      <th></th>\n",
       "    </tr>\n",
       "  </thead>\n",
       "  <tbody>\n",
       "    <tr>\n",
       "      <th>1</th>\n",
       "      <td>0</td>\n",
       "      <td>3</td>\n",
       "      <td>Braund, Mr. Owen Harris</td>\n",
       "      <td>male</td>\n",
       "      <td>22.0</td>\n",
       "      <td>1</td>\n",
       "      <td>0</td>\n",
       "      <td>A/5 21171</td>\n",
       "      <td>7.2500</td>\n",
       "      <td>NaN</td>\n",
       "      <td>S</td>\n",
       "    </tr>\n",
       "    <tr>\n",
       "      <th>2</th>\n",
       "      <td>1</td>\n",
       "      <td>1</td>\n",
       "      <td>Cumings, Mrs. John Bradley (Florence Briggs Th...</td>\n",
       "      <td>female</td>\n",
       "      <td>38.0</td>\n",
       "      <td>1</td>\n",
       "      <td>0</td>\n",
       "      <td>PC 17599</td>\n",
       "      <td>71.2833</td>\n",
       "      <td>C85</td>\n",
       "      <td>C</td>\n",
       "    </tr>\n",
       "    <tr>\n",
       "      <th>3</th>\n",
       "      <td>1</td>\n",
       "      <td>3</td>\n",
       "      <td>Heikkinen, Miss. Laina</td>\n",
       "      <td>female</td>\n",
       "      <td>26.0</td>\n",
       "      <td>0</td>\n",
       "      <td>0</td>\n",
       "      <td>STON/O2. 3101282</td>\n",
       "      <td>7.9250</td>\n",
       "      <td>NaN</td>\n",
       "      <td>S</td>\n",
       "    </tr>\n",
       "    <tr>\n",
       "      <th>4</th>\n",
       "      <td>1</td>\n",
       "      <td>1</td>\n",
       "      <td>Futrelle, Mrs. Jacques Heath (Lily May Peel)</td>\n",
       "      <td>female</td>\n",
       "      <td>35.0</td>\n",
       "      <td>1</td>\n",
       "      <td>0</td>\n",
       "      <td>113803</td>\n",
       "      <td>53.1000</td>\n",
       "      <td>C123</td>\n",
       "      <td>S</td>\n",
       "    </tr>\n",
       "    <tr>\n",
       "      <th>5</th>\n",
       "      <td>0</td>\n",
       "      <td>3</td>\n",
       "      <td>Allen, Mr. William Henry</td>\n",
       "      <td>male</td>\n",
       "      <td>35.0</td>\n",
       "      <td>0</td>\n",
       "      <td>0</td>\n",
       "      <td>373450</td>\n",
       "      <td>8.0500</td>\n",
       "      <td>NaN</td>\n",
       "      <td>S</td>\n",
       "    </tr>\n",
       "  </tbody>\n",
       "</table>\n",
       "</div>"
      ],
      "text/plain": [
       "             Survived  Pclass  \\\n",
       "PassengerId                     \n",
       "1                   0       3   \n",
       "2                   1       1   \n",
       "3                   1       3   \n",
       "4                   1       1   \n",
       "5                   0       3   \n",
       "\n",
       "                                                          Name     Sex   Age  \\\n",
       "PassengerId                                                                    \n",
       "1                                      Braund, Mr. Owen Harris    male  22.0   \n",
       "2            Cumings, Mrs. John Bradley (Florence Briggs Th...  female  38.0   \n",
       "3                                       Heikkinen, Miss. Laina  female  26.0   \n",
       "4                 Futrelle, Mrs. Jacques Heath (Lily May Peel)  female  35.0   \n",
       "5                                     Allen, Mr. William Henry    male  35.0   \n",
       "\n",
       "             SibSp  Parch            Ticket     Fare Cabin Embarked  \n",
       "PassengerId                                                          \n",
       "1                1      0         A/5 21171   7.2500   NaN        S  \n",
       "2                1      0          PC 17599  71.2833   C85        C  \n",
       "3                0      0  STON/O2. 3101282   7.9250   NaN        S  \n",
       "4                1      0            113803  53.1000  C123        S  \n",
       "5                0      0            373450   8.0500   NaN        S  "
      ]
     },
     "execution_count": 3,
     "metadata": {},
     "output_type": "execute_result"
    }
   ],
   "source": [
    "titanic_train_df = pd.read_csv('/kaggle/input/titanic/train.csv')\n",
    "\n",
    "titanic_test_df = pd.read_csv('/kaggle/input/titanic/test.csv')\n",
    "\n",
    "\n",
    "titanic_train_df.set_index('PassengerId', inplace=True)\n",
    "titanic_train_df.head()"
   ]
  },
  {
   "cell_type": "code",
   "execution_count": 4,
   "id": "proved-robert",
   "metadata": {
    "execution": {
     "iopub.execute_input": "2021-04-05T09:37:01.171287Z",
     "iopub.status.busy": "2021-04-05T09:37:01.161506Z",
     "iopub.status.idle": "2021-04-05T09:37:01.177090Z",
     "shell.execute_reply": "2021-04-05T09:37:01.176252Z"
    },
    "papermill": {
     "duration": 0.052547,
     "end_time": "2021-04-05T09:37:01.177286",
     "exception": false,
     "start_time": "2021-04-05T09:37:01.124739",
     "status": "completed"
    },
    "tags": []
   },
   "outputs": [
    {
     "name": "stdout",
     "output_type": "stream",
     "text": [
      "<class 'pandas.core.frame.DataFrame'>\n",
      "Int64Index: 891 entries, 1 to 891\n",
      "Data columns (total 11 columns):\n",
      " #   Column    Non-Null Count  Dtype  \n",
      "---  ------    --------------  -----  \n",
      " 0   Survived  891 non-null    int64  \n",
      " 1   Pclass    891 non-null    int64  \n",
      " 2   Name      891 non-null    object \n",
      " 3   Sex       891 non-null    object \n",
      " 4   Age       714 non-null    float64\n",
      " 5   SibSp     891 non-null    int64  \n",
      " 6   Parch     891 non-null    int64  \n",
      " 7   Ticket    891 non-null    object \n",
      " 8   Fare      891 non-null    float64\n",
      " 9   Cabin     204 non-null    object \n",
      " 10  Embarked  889 non-null    object \n",
      "dtypes: float64(2), int64(4), object(5)\n",
      "memory usage: 83.5+ KB\n"
     ]
    }
   ],
   "source": [
    "titanic_train_df.info()"
   ]
  },
  {
   "cell_type": "code",
   "execution_count": 5,
   "id": "outside-shakespeare",
   "metadata": {
    "execution": {
     "iopub.execute_input": "2021-04-05T09:37:01.235414Z",
     "iopub.status.busy": "2021-04-05T09:37:01.234553Z",
     "iopub.status.idle": "2021-04-05T09:37:01.239690Z",
     "shell.execute_reply": "2021-04-05T09:37:01.240694Z"
    },
    "papermill": {
     "duration": 0.03815,
     "end_time": "2021-04-05T09:37:01.240952",
     "exception": false,
     "start_time": "2021-04-05T09:37:01.202802",
     "status": "completed"
    },
    "tags": []
   },
   "outputs": [
    {
     "name": "stdout",
     "output_type": "stream",
     "text": [
      "65% of passengers are male while 35% are female\n"
     ]
    }
   ],
   "source": [
    "pass_by_sex = titanic_train_df['Sex'].value_counts()\n",
    "\n",
    "male_pc = (pass_by_sex['male']/pass_by_sex.sum())*100\n",
    "female_pc = (pass_by_sex['female']/pass_by_sex.sum())*100\n",
    "\n",
    "print(\"{}% of passengers are male while {}% are female\".format(round(male_pc), round(female_pc)))"
   ]
  },
  {
   "cell_type": "code",
   "execution_count": 6,
   "id": "simplified-pollution",
   "metadata": {
    "execution": {
     "iopub.execute_input": "2021-04-05T09:37:01.303272Z",
     "iopub.status.busy": "2021-04-05T09:37:01.302189Z",
     "iopub.status.idle": "2021-04-05T09:37:01.468916Z",
     "shell.execute_reply": "2021-04-05T09:37:01.468314Z"
    },
    "papermill": {
     "duration": 0.20168,
     "end_time": "2021-04-05T09:37:01.469076",
     "exception": false,
     "start_time": "2021-04-05T09:37:01.267396",
     "status": "completed"
    },
    "tags": []
   },
   "outputs": [
    {
     "data": {
      "text/plain": [
       "<AxesSubplot:xlabel='Survived', ylabel='count'>"
      ]
     },
     "execution_count": 6,
     "metadata": {},
     "output_type": "execute_result"
    },
    {
     "data": {
      "image/png": "[encoded data removed]",
      "text/plain": [
       "<Figure size 432x288 with 1 Axes>"
      ]
     },
     "metadata": {
      "needs_background": "light"
     },
     "output_type": "display_data"
    }
   ],
   "source": [
    "sns.countplot(data=titanic_train_df, x='Survived')"
   ]
  },
  {
   "cell_type": "code",
   "execution_count": 7,
   "id": "danish-rouge",
   "metadata": {
    "execution": {
     "iopub.execute_input": "2021-04-05T09:37:01.533533Z",
     "iopub.status.busy": "2021-04-05T09:37:01.532492Z",
     "iopub.status.idle": "2021-04-05T09:37:01.702022Z",
     "shell.execute_reply": "2021-04-05T09:37:01.701355Z"
    },
    "papermill": {
     "duration": 0.206129,
     "end_time": "2021-04-05T09:37:01.702163",
     "exception": false,
     "start_time": "2021-04-05T09:37:01.496034",
     "status": "completed"
    },
    "tags": []
   },
   "outputs": [
    {
     "data": {
      "text/plain": [
       "<AxesSubplot:xlabel='Sex', ylabel='count'>"
      ]
     },
     "execution_count": 7,
     "metadata": {},
     "output_type": "execute_result"
    },
    {
     "data": {
      "image/png": "[encoded data removed]",
      "text/plain": [
       "<Figure size 432x288 with 1 Axes>"
      ]
     },
     "metadata": {
      "needs_background": "light"
     },
     "output_type": "display_data"
    }
   ],
   "source": [
    "sns.countplot(data=titanic_train_df, x='Sex', hue='Survived')"
   ]
  },
  {
   "cell_type": "code",
   "execution_count": 8,
   "id": "accompanied-beaver",
   "metadata": {
    "execution": {
     "iopub.execute_input": "2021-04-05T09:37:01.763694Z",
     "iopub.status.busy": "2021-04-05T09:37:01.763023Z",
     "iopub.status.idle": "2021-04-05T09:37:01.900021Z",
     "shell.execute_reply": "2021-04-05T09:37:01.899448Z"
    },
    "papermill": {
     "duration": 0.17036,
     "end_time": "2021-04-05T09:37:01.900162",
     "exception": false,
     "start_time": "2021-04-05T09:37:01.729802",
     "status": "completed"
    },
    "tags": []
   },
   "outputs": [
    {
     "data": {
      "text/plain": [
       "<AxesSubplot:xlabel='Pclass', ylabel='count'>"
      ]
     },
     "execution_count": 8,
     "metadata": {},
     "output_type": "execute_result"
    },
    {
     "data": {
      "image/png": "[encoded data removed]",
      "text/plain": [
       "<Figure size 432x288 with 1 Axes>"
      ]
     },
     "metadata": {
      "needs_background": "light"
     },
     "output_type": "display_data"
    }
   ],
   "source": [
    "sns.countplot(data=titanic_train_df, x='Pclass')"
   ]
  },
  {
   "cell_type": "code",
   "execution_count": 9,
   "id": "economic-darkness",
   "metadata": {
    "execution": {
     "iopub.execute_input": "2021-04-05T09:37:01.964394Z",
     "iopub.status.busy": "2021-04-05T09:37:01.963674Z",
     "iopub.status.idle": "2021-04-05T09:37:02.156972Z",
     "shell.execute_reply": "2021-04-05T09:37:02.156396Z"
    },
    "papermill": {
     "duration": 0.227919,
     "end_time": "2021-04-05T09:37:02.157125",
     "exception": false,
     "start_time": "2021-04-05T09:37:01.929206",
     "status": "completed"
    },
    "tags": []
   },
   "outputs": [
    {
     "data": {
      "text/plain": [
       "<AxesSubplot:xlabel='Pclass', ylabel='count'>"
      ]
     },
     "execution_count": 9,
     "metadata": {},
     "output_type": "execute_result"
    },
    {
     "data": {
      "image/png": "[encoded data removed]",
      "text/plain": [
       "<Figure size 432x288 with 1 Axes>"
      ]
     },
     "metadata": {
      "needs_background": "light"
     },
     "output_type": "display_data"
    }
   ],
   "source": [
    "sns.countplot(data=titanic_train_df, x='Pclass', hue='Survived')"
   ]
  },
  {
   "cell_type": "code",
   "execution_count": 10,
   "id": "photographic-nevada",
   "metadata": {
    "execution": {
     "iopub.execute_input": "2021-04-05T09:37:02.268410Z",
     "iopub.status.busy": "2021-04-05T09:37:02.257631Z",
     "iopub.status.idle": "2021-04-05T09:37:02.495504Z",
     "shell.execute_reply": "2021-04-05T09:37:02.496011Z"
    },
    "papermill": {
     "duration": 0.299877,
     "end_time": "2021-04-05T09:37:02.496194",
     "exception": false,
     "start_time": "2021-04-05T09:37:02.196317",
     "status": "completed"
    },
    "tags": []
   },
   "outputs": [
    {
     "data": {
      "text/plain": [
       "<AxesSubplot:xlabel='Age', ylabel='Count'>"
      ]
     },
     "execution_count": 10,
     "metadata": {},
     "output_type": "execute_result"
    },
    {
     "data": {
      "image/png": "[encoded data removed]",
      "text/plain": [
       "<Figure size 432x288 with 1 Axes>"
      ]
     },
     "metadata": {
      "needs_background": "light"
     },
     "output_type": "display_data"
    }
   ],
   "source": [
    "sns.histplot(data=titanic_train_df, x='Age')"
   ]
  },
  {
   "cell_type": "code",
   "execution_count": 11,
   "id": "divine-mount",
   "metadata": {
    "execution": {
     "iopub.execute_input": "2021-04-05T09:37:02.561897Z",
     "iopub.status.busy": "2021-04-05T09:37:02.561270Z",
     "iopub.status.idle": "2021-04-05T09:37:02.852360Z",
     "shell.execute_reply": "2021-04-05T09:37:02.852979Z"
    },
    "papermill": {
     "duration": 0.325697,
     "end_time": "2021-04-05T09:37:02.853166",
     "exception": false,
     "start_time": "2021-04-05T09:37:02.527469",
     "status": "completed"
    },
    "tags": []
   },
   "outputs": [
    {
     "data": {
      "text/plain": [
       "<AxesSubplot:xlabel='SibSp', ylabel='Count'>"
      ]
     },
     "execution_count": 11,
     "metadata": {},
     "output_type": "execute_result"
    },
    {
     "data": {
      "image/png": "[encoded data removed]",
      "text/plain": [
       "<Figure size 432x288 with 1 Axes>"
      ]
     },
     "metadata": {
      "needs_background": "light"
     },
     "output_type": "display_data"
    }
   ],
   "source": [
    "sns.histplot(data=titanic_train_df, x='SibSp')"
   ]
  },
  {
   "cell_type": "code",
   "execution_count": 12,
   "id": "australian-manual",
   "metadata": {
    "execution": {
     "iopub.execute_input": "2021-04-05T09:37:02.921657Z",
     "iopub.status.busy": "2021-04-05T09:37:02.920972Z",
     "iopub.status.idle": "2021-04-05T09:37:03.152358Z",
     "shell.execute_reply": "2021-04-05T09:37:03.151457Z"
    },
    "papermill": {
     "duration": 0.267164,
     "end_time": "2021-04-05T09:37:03.152636",
     "exception": false,
     "start_time": "2021-04-05T09:37:02.885472",
     "status": "completed"
    },
    "tags": []
   },
   "outputs": [
    {
     "data": {
      "text/plain": [
       "<AxesSubplot:xlabel='Parch', ylabel='Count'>"
      ]
     },
     "execution_count": 12,
     "metadata": {},
     "output_type": "execute_result"
    },
    {
     "data": {
      "image/png": "[encoded data removed]",
      "text/plain": [
       "<Figure size 432x288 with 1 Axes>"
      ]
     },
     "metadata": {
      "needs_background": "light"
     },
     "output_type": "display_data"
    }
   ],
   "source": [
    "sns.histplot(data=titanic_train_df, x='Parch')\n",
    "#Age here is a continuous variable while Parch and SibSp are discrete"
   ]
  },
  {
   "cell_type": "markdown",
   "id": "unauthorized-benchmark",
   "metadata": {
    "papermill": {
     "duration": 0.033122,
     "end_time": "2021-04-05T09:37:03.219503",
     "exception": false,
     "start_time": "2021-04-05T09:37:03.186381",
     "status": "completed"
    },
    "tags": []
   },
   "source": [
    "# Building a RandomForestClassifier model\n",
    "\n",
    "* Excluding Age in the features set"
   ]
  },
  {
   "cell_type": "code",
   "execution_count": 13,
   "id": "buried-missile",
   "metadata": {
    "execution": {
     "iopub.execute_input": "2021-04-05T09:37:03.297745Z",
     "iopub.status.busy": "2021-04-05T09:37:03.296189Z",
     "iopub.status.idle": "2021-04-05T09:37:03.301197Z",
     "shell.execute_reply": "2021-04-05T09:37:03.300432Z"
    },
    "papermill": {
     "duration": 0.048792,
     "end_time": "2021-04-05T09:37:03.301352",
     "exception": false,
     "start_time": "2021-04-05T09:37:03.252560",
     "status": "completed"
    },
    "tags": []
   },
   "outputs": [],
   "source": [
    "# Sex and Pclass are categorical while SibSp and Parch are discrete numerical attributes\n",
    "features = ['Sex', 'Pclass', 'SibSp', 'Parch']\n",
    "\n",
    "X_train = pd.get_dummies(titanic_train_df[features])\n",
    "y_train = titanic_train_df['Survived']"
   ]
  },
  {
   "cell_type": "code",
   "execution_count": 14,
   "id": "religious-campus",
   "metadata": {
    "execution": {
     "iopub.execute_input": "2021-04-05T09:37:03.379414Z",
     "iopub.status.busy": "2021-04-05T09:37:03.378728Z",
     "iopub.status.idle": "2021-04-05T09:37:03.881946Z",
     "shell.execute_reply": "2021-04-05T09:37:03.882451Z"
    },
    "papermill": {
     "duration": 0.547613,
     "end_time": "2021-04-05T09:37:03.882637",
     "exception": false,
     "start_time": "2021-04-05T09:37:03.335024",
     "status": "completed"
    },
    "tags": []
   },
   "outputs": [],
   "source": [
    "from sklearn.model_selection import cross_val_score, cross_val_predict\n",
    "from sklearn.metrics import f1_score, precision_score, recall_score, confusion_matrix\n",
    "from sklearn.ensemble import RandomForestClassifier\n",
    "from sklearn.linear_model import LogisticRegression\n"
   ]
  },
  {
   "cell_type": "code",
   "execution_count": 15,
   "id": "expressed-dress",
   "metadata": {
    "execution": {
     "iopub.execute_input": "2021-04-05T09:37:03.954569Z",
     "iopub.status.busy": "2021-04-05T09:37:03.953858Z",
     "iopub.status.idle": "2021-04-05T09:37:04.582692Z",
     "shell.execute_reply": "2021-04-05T09:37:04.583371Z"
    },
    "papermill": {
     "duration": 0.666836,
     "end_time": "2021-04-05T09:37:04.583566",
     "exception": false,
     "start_time": "2021-04-05T09:37:03.916730",
     "status": "completed"
    },
    "tags": []
   },
   "outputs": [],
   "source": [
    "forest_clf = RandomForestClassifier(random_state=42)\n",
    "\n",
    "y_pred = cross_val_predict(forest_clf, X_train, y_train, cv=3)"
   ]
  },
  {
   "cell_type": "code",
   "execution_count": 16,
   "id": "utility-meaning",
   "metadata": {
    "execution": {
     "iopub.execute_input": "2021-04-05T09:37:04.658088Z",
     "iopub.status.busy": "2021-04-05T09:37:04.657398Z",
     "iopub.status.idle": "2021-04-05T09:37:05.291202Z",
     "shell.execute_reply": "2021-04-05T09:37:05.290617Z"
    },
    "papermill": {
     "duration": 0.673273,
     "end_time": "2021-04-05T09:37:05.291367",
     "exception": false,
     "start_time": "2021-04-05T09:37:04.618094",
     "status": "completed"
    },
    "tags": []
   },
   "outputs": [
    {
     "data": {
      "text/plain": [
       "array([0.76430976, 0.8013468 , 0.78787879])"
      ]
     },
     "execution_count": 16,
     "metadata": {},
     "output_type": "execute_result"
    }
   ],
   "source": [
    "cross_val_score(forest_clf, X_train, y_train, cv=3, scoring='accuracy')"
   ]
  },
  {
   "cell_type": "code",
   "execution_count": 17,
   "id": "controlled-deadline",
   "metadata": {
    "execution": {
     "iopub.execute_input": "2021-04-05T09:37:05.367297Z",
     "iopub.status.busy": "2021-04-05T09:37:05.366330Z",
     "iopub.status.idle": "2021-04-05T09:37:05.374922Z",
     "shell.execute_reply": "2021-04-05T09:37:05.374318Z"
    },
    "papermill": {
     "duration": 0.049155,
     "end_time": "2021-04-05T09:37:05.375067",
     "exception": false,
     "start_time": "2021-04-05T09:37:05.325912",
     "status": "completed"
    },
    "tags": []
   },
   "outputs": [
    {
     "data": {
      "text/plain": [
       "array([[473,  76],\n",
       "       [116, 226]])"
      ]
     },
     "execution_count": 17,
     "metadata": {},
     "output_type": "execute_result"
    }
   ],
   "source": [
    "conf_matrix = confusion_matrix(y_train, y_pred)\n",
    "conf_matrix"
   ]
  },
  {
   "cell_type": "code",
   "execution_count": 18,
   "id": "combined-afternoon",
   "metadata": {
    "execution": {
     "iopub.execute_input": "2021-04-05T09:37:05.451550Z",
     "iopub.status.busy": "2021-04-05T09:37:05.450468Z",
     "iopub.status.idle": "2021-04-05T09:37:05.457791Z",
     "shell.execute_reply": "2021-04-05T09:37:05.457192Z"
    },
    "papermill": {
     "duration": 0.04743,
     "end_time": "2021-04-05T09:37:05.457946",
     "exception": false,
     "start_time": "2021-04-05T09:37:05.410516",
     "status": "completed"
    },
    "tags": []
   },
   "outputs": [
    {
     "data": {
      "text/plain": [
       "0.7483443708609272"
      ]
     },
     "execution_count": 18,
     "metadata": {},
     "output_type": "execute_result"
    }
   ],
   "source": [
    "precision_score(y_train, y_pred)"
   ]
  },
  {
   "cell_type": "code",
   "execution_count": 19,
   "id": "distant-default",
   "metadata": {
    "execution": {
     "iopub.execute_input": "2021-04-05T09:37:05.535921Z",
     "iopub.status.busy": "2021-04-05T09:37:05.534370Z",
     "iopub.status.idle": "2021-04-05T09:37:05.539266Z",
     "shell.execute_reply": "2021-04-05T09:37:05.539933Z"
    },
    "papermill": {
     "duration": 0.045956,
     "end_time": "2021-04-05T09:37:05.540104",
     "exception": false,
     "start_time": "2021-04-05T09:37:05.494148",
     "status": "completed"
    },
    "tags": []
   },
   "outputs": [
    {
     "data": {
      "text/plain": [
       "0.6608187134502924"
      ]
     },
     "execution_count": 19,
     "metadata": {},
     "output_type": "execute_result"
    }
   ],
   "source": [
    "recall_score(y_train, y_pred)"
   ]
  },
  {
   "cell_type": "code",
   "execution_count": 20,
   "id": "static-meditation",
   "metadata": {
    "execution": {
     "iopub.execute_input": "2021-04-05T09:37:05.615413Z",
     "iopub.status.busy": "2021-04-05T09:37:05.614753Z",
     "iopub.status.idle": "2021-04-05T09:37:05.972243Z",
     "shell.execute_reply": "2021-04-05T09:37:05.972800Z"
    },
    "papermill": {
     "duration": 0.396933,
     "end_time": "2021-04-05T09:37:05.972974",
     "exception": false,
     "start_time": "2021-04-05T09:37:05.576041",
     "status": "completed"
    },
    "tags": []
   },
   "outputs": [
    {
     "data": {
      "text/plain": [
       "<AxesSubplot:>"
      ]
     },
     "execution_count": 20,
     "metadata": {},
     "output_type": "execute_result"
    },
    {
     "data": {
      "image/png": "[encoded data removed]",
      "text/plain": [
       "<Figure size 432x288 with 2 Axes>"
      ]
     },
     "metadata": {
      "needs_background": "light"
     },
     "output_type": "display_data"
    }
   ],
   "source": [
    "sns.heatmap(data=conf_matrix, cmap='YlGnBu', annot=True)"
   ]
  },
  {
   "cell_type": "code",
   "execution_count": 21,
   "id": "piano-fellowship",
   "metadata": {
    "execution": {
     "iopub.execute_input": "2021-04-05T09:37:06.051022Z",
     "iopub.status.busy": "2021-04-05T09:37:06.050181Z",
     "iopub.status.idle": "2021-04-05T09:37:06.057363Z",
     "shell.execute_reply": "2021-04-05T09:37:06.057919Z"
    },
    "papermill": {
     "duration": 0.047627,
     "end_time": "2021-04-05T09:37:06.058095",
     "exception": false,
     "start_time": "2021-04-05T09:37:06.010468",
     "status": "completed"
    },
    "tags": []
   },
   "outputs": [
    {
     "data": {
      "text/plain": [
       "0.7018633540372671"
      ]
     },
     "execution_count": 21,
     "metadata": {},
     "output_type": "execute_result"
    }
   ],
   "source": [
    "f1_score(y_train, y_pred)"
   ]
  },
  {
   "cell_type": "code",
   "execution_count": 22,
   "id": "underlying-security",
   "metadata": {
    "execution": {
     "iopub.execute_input": "2021-04-05T09:37:06.136563Z",
     "iopub.status.busy": "2021-04-05T09:37:06.135914Z",
     "iopub.status.idle": "2021-04-05T09:37:06.229495Z",
     "shell.execute_reply": "2021-04-05T09:37:06.228812Z"
    },
    "papermill": {
     "duration": 0.133952,
     "end_time": "2021-04-05T09:37:06.229638",
     "exception": false,
     "start_time": "2021-04-05T09:37:06.095686",
     "status": "completed"
    },
    "tags": []
   },
   "outputs": [
    {
     "data": {
      "text/plain": [
       "array([0.7979798 , 0.81818182, 0.78114478])"
      ]
     },
     "execution_count": 22,
     "metadata": {},
     "output_type": "execute_result"
    }
   ],
   "source": [
    "logit_model = LogisticRegression(random_state=42)\n",
    "\n",
    "y_pred = cross_val_predict(logit_model, X_train, y_train, cv=3)\n",
    "cross_val_score(logit_model, X_train, y_train, cv=3, scoring='accuracy')"
   ]
  },
  {
   "cell_type": "code",
   "execution_count": 23,
   "id": "major-small",
   "metadata": {
    "execution": {
     "iopub.execute_input": "2021-04-05T09:37:06.311514Z",
     "iopub.status.busy": "2021-04-05T09:37:06.310849Z",
     "iopub.status.idle": "2021-04-05T09:37:06.319237Z",
     "shell.execute_reply": "2021-04-05T09:37:06.318667Z"
    },
    "papermill": {
     "duration": 0.051629,
     "end_time": "2021-04-05T09:37:06.319388",
     "exception": false,
     "start_time": "2021-04-05T09:37:06.267759",
     "status": "completed"
    },
    "tags": []
   },
   "outputs": [
    {
     "data": {
      "text/plain": [
       "array([[483,  66],\n",
       "       [113, 229]])"
      ]
     },
     "execution_count": 23,
     "metadata": {},
     "output_type": "execute_result"
    }
   ],
   "source": [
    "conf_matrix = confusion_matrix(y_train, y_pred)\n",
    "conf_matrix"
   ]
  },
  {
   "cell_type": "code",
   "execution_count": 24,
   "id": "metropolitan-philip",
   "metadata": {
    "execution": {
     "iopub.execute_input": "2021-04-05T09:37:06.401522Z",
     "iopub.status.busy": "2021-04-05T09:37:06.400673Z",
     "iopub.status.idle": "2021-04-05T09:37:06.408150Z",
     "shell.execute_reply": "2021-04-05T09:37:06.407450Z"
    },
    "papermill": {
     "duration": 0.05079,
     "end_time": "2021-04-05T09:37:06.408311",
     "exception": false,
     "start_time": "2021-04-05T09:37:06.357521",
     "status": "completed"
    },
    "tags": []
   },
   "outputs": [
    {
     "data": {
      "text/plain": [
       "0.7762711864406779"
      ]
     },
     "execution_count": 24,
     "metadata": {},
     "output_type": "execute_result"
    }
   ],
   "source": [
    "precision_score(y_train, y_pred)"
   ]
  },
  {
   "cell_type": "code",
   "execution_count": 25,
   "id": "beginning-ownership",
   "metadata": {
    "execution": {
     "iopub.execute_input": "2021-04-05T09:37:06.492311Z",
     "iopub.status.busy": "2021-04-05T09:37:06.491556Z",
     "iopub.status.idle": "2021-04-05T09:37:06.498884Z",
     "shell.execute_reply": "2021-04-05T09:37:06.498241Z"
    },
    "papermill": {
     "duration": 0.051579,
     "end_time": "2021-04-05T09:37:06.499038",
     "exception": false,
     "start_time": "2021-04-05T09:37:06.447459",
     "status": "completed"
    },
    "tags": []
   },
   "outputs": [
    {
     "data": {
      "text/plain": [
       "0.6695906432748538"
      ]
     },
     "execution_count": 25,
     "metadata": {},
     "output_type": "execute_result"
    }
   ],
   "source": [
    "recall_score(y_train, y_pred)"
   ]
  },
  {
   "cell_type": "code",
   "execution_count": 26,
   "id": "southwest-bread",
   "metadata": {
    "execution": {
     "iopub.execute_input": "2021-04-05T09:37:06.625666Z",
     "iopub.status.busy": "2021-04-05T09:37:06.599111Z",
     "iopub.status.idle": "2021-04-05T09:37:06.840996Z",
     "shell.execute_reply": "2021-04-05T09:37:06.840241Z"
    },
    "papermill": {
     "duration": 0.30299,
     "end_time": "2021-04-05T09:37:06.841148",
     "exception": false,
     "start_time": "2021-04-05T09:37:06.538158",
     "status": "completed"
    },
    "tags": []
   },
   "outputs": [
    {
     "data": {
      "text/plain": [
       "<AxesSubplot:>"
      ]
     },
     "execution_count": 26,
     "metadata": {},
     "output_type": "execute_result"
    },
    {
     "data": {
      "image/png": "[encoded data removed]",
      "text/plain": [
       "<Figure size 432x288 with 2 Axes>"
      ]
     },
     "metadata": {
      "needs_background": "light"
     },
     "output_type": "display_data"
    }
   ],
   "source": [
    "sns.heatmap(data=conf_matrix, cmap='YlGnBu', annot=True)"
   ]
  },
  {
   "cell_type": "code",
   "execution_count": 27,
   "id": "incomplete-fortune",
   "metadata": {
    "execution": {
     "iopub.execute_input": "2021-04-05T09:37:06.928245Z",
     "iopub.status.busy": "2021-04-05T09:37:06.927410Z",
     "iopub.status.idle": "2021-04-05T09:37:06.932276Z",
     "shell.execute_reply": "2021-04-05T09:37:06.932733Z"
    },
    "papermill": {
     "duration": 0.051421,
     "end_time": "2021-04-05T09:37:06.932944",
     "exception": false,
     "start_time": "2021-04-05T09:37:06.881523",
     "status": "completed"
    },
    "tags": []
   },
   "outputs": [
    {
     "data": {
      "text/plain": [
       "0.718995290423862"
      ]
     },
     "execution_count": 27,
     "metadata": {},
     "output_type": "execute_result"
    }
   ],
   "source": [
    "f1_score(y_train, y_pred)"
   ]
  },
  {
   "cell_type": "markdown",
   "id": "major-success",
   "metadata": {
    "papermill": {
     "duration": 0.041149,
     "end_time": "2021-04-05T09:37:07.016179",
     "exception": false,
     "start_time": "2021-04-05T09:37:06.975030",
     "status": "completed"
    },
    "tags": []
   },
   "source": [
    "# Final Prediction from the model\n"
   ]
  },
  {
   "cell_type": "code",
   "execution_count": 28,
   "id": "prostate-federation",
   "metadata": {
    "execution": {
     "iopub.execute_input": "2021-04-05T09:37:07.102316Z",
     "iopub.status.busy": "2021-04-05T09:37:07.101664Z",
     "iopub.status.idle": "2021-04-05T09:37:07.106292Z",
     "shell.execute_reply": "2021-04-05T09:37:07.106895Z"
    },
    "papermill": {
     "duration": 0.049863,
     "end_time": "2021-04-05T09:37:07.107145",
     "exception": false,
     "start_time": "2021-04-05T09:37:07.057282",
     "status": "completed"
    },
    "tags": []
   },
   "outputs": [
    {
     "data": {
      "text/plain": [
       "(418, 11)"
      ]
     },
     "execution_count": 28,
     "metadata": {},
     "output_type": "execute_result"
    }
   ],
   "source": [
    "titanic_test_df.shape"
   ]
  },
  {
   "cell_type": "code",
   "execution_count": 29,
   "id": "hazardous-composer",
   "metadata": {
    "execution": {
     "iopub.execute_input": "2021-04-05T09:37:07.193589Z",
     "iopub.status.busy": "2021-04-05T09:37:07.192873Z",
     "iopub.status.idle": "2021-04-05T09:37:07.202046Z",
     "shell.execute_reply": "2021-04-05T09:37:07.202591Z"
    },
    "papermill": {
     "duration": 0.054731,
     "end_time": "2021-04-05T09:37:07.202790",
     "exception": false,
     "start_time": "2021-04-05T09:37:07.148059",
     "status": "completed"
    },
    "tags": []
   },
   "outputs": [],
   "source": [
    "X_test = pd.get_dummies(titanic_test_df[features])"
   ]
  },
  {
   "cell_type": "code",
   "execution_count": 30,
   "id": "still-detection",
   "metadata": {
    "execution": {
     "iopub.execute_input": "2021-04-05T09:37:07.289344Z",
     "iopub.status.busy": "2021-04-05T09:37:07.288604Z",
     "iopub.status.idle": "2021-04-05T09:37:07.307985Z",
     "shell.execute_reply": "2021-04-05T09:37:07.308496Z"
    },
    "papermill": {
     "duration": 0.064831,
     "end_time": "2021-04-05T09:37:07.308703",
     "exception": false,
     "start_time": "2021-04-05T09:37:07.243872",
     "status": "completed"
    },
    "tags": []
   },
   "outputs": [],
   "source": [
    "logit_model.fit(X_train, y_train)\n",
    "predictions = logit_model.predict(X_test)\n",
    "output = pd.DataFrame({'PassengerID':titanic_test_df.PassengerId, 'Survived':predictions})"
   ]
  },
  {
   "cell_type": "code",
   "execution_count": 31,
   "id": "complicated-crisis",
   "metadata": {
    "execution": {
     "iopub.execute_input": "2021-04-05T09:37:07.395381Z",
     "iopub.status.busy": "2021-04-05T09:37:07.394681Z",
     "iopub.status.idle": "2021-04-05T09:37:07.403193Z",
     "shell.execute_reply": "2021-04-05T09:37:07.403728Z"
    },
    "papermill": {
     "duration": 0.053654,
     "end_time": "2021-04-05T09:37:07.403929",
     "exception": false,
     "start_time": "2021-04-05T09:37:07.350275",
     "status": "completed"
    },
    "tags": []
   },
   "outputs": [
    {
     "data": {
      "text/html": [
       "<div>\n",
       "<style scoped>\n",
       "    .dataframe tbody tr th:only-of-type {\n",
       "        vertical-align: middle;\n",
       "    }\n",
       "\n",
       "    .dataframe tbody tr th {\n",
       "        vertical-align: top;\n",
       "    }\n",
       "\n",
       "    .dataframe thead th {\n",
       "        text-align: right;\n",
       "    }\n",
       "</style>\n",
       "<table border=\"1\" class=\"dataframe\">\n",
       "  <thead>\n",
       "    <tr style=\"text-align: right;\">\n",
       "      <th></th>\n",
       "      <th>PassengerID</th>\n",
       "      <th>Survived</th>\n",
       "    </tr>\n",
       "  </thead>\n",
       "  <tbody>\n",
       "    <tr>\n",
       "      <th>0</th>\n",
       "      <td>892</td>\n",
       "      <td>0</td>\n",
       "    </tr>\n",
       "    <tr>\n",
       "      <th>1</th>\n",
       "      <td>893</td>\n",
       "      <td>1</td>\n",
       "    </tr>\n",
       "    <tr>\n",
       "      <th>2</th>\n",
       "      <td>894</td>\n",
       "      <td>0</td>\n",
       "    </tr>\n",
       "    <tr>\n",
       "      <th>3</th>\n",
       "      <td>895</td>\n",
       "      <td>0</td>\n",
       "    </tr>\n",
       "    <tr>\n",
       "      <th>4</th>\n",
       "      <td>896</td>\n",
       "      <td>1</td>\n",
       "    </tr>\n",
       "  </tbody>\n",
       "</table>\n",
       "</div>"
      ],
      "text/plain": [
       "   PassengerID  Survived\n",
       "0          892         0\n",
       "1          893         1\n",
       "2          894         0\n",
       "3          895         0\n",
       "4          896         1"
      ]
     },
     "execution_count": 31,
     "metadata": {},
     "output_type": "execute_result"
    }
   ],
   "source": [
    "output[:5]"
   ]
  },
  {
   "cell_type": "code",
   "execution_count": 32,
   "id": "weighted-constant",
   "metadata": {
    "execution": {
     "iopub.execute_input": "2021-04-05T09:37:07.491610Z",
     "iopub.status.busy": "2021-04-05T09:37:07.490912Z",
     "iopub.status.idle": "2021-04-05T09:37:07.500450Z",
     "shell.execute_reply": "2021-04-05T09:37:07.499752Z"
    },
    "papermill": {
     "duration": 0.054657,
     "end_time": "2021-04-05T09:37:07.500600",
     "exception": false,
     "start_time": "2021-04-05T09:37:07.445943",
     "status": "completed"
    },
    "tags": []
   },
   "outputs": [
    {
     "name": "stdout",
     "output_type": "stream",
     "text": [
      "Submission saved!\n"
     ]
    }
   ],
   "source": [
    "output.to_csv('my_submission.csv', index=False)\n",
    "print('Submission saved!')"
   ]
  },
  {
   "cell_type": "code",
   "execution_count": null,
   "id": "animal-chapel",
   "metadata": {
    "papermill": {
     "duration": 0.042219,
     "end_time": "2021-04-05T09:37:07.586331",
     "exception": false,
     "start_time": "2021-04-05T09:37:07.544112",
     "status": "completed"
    },
    "tags": []
   },
   "outputs": [],
   "source": []
  }
 ],
 "metadata": {
  "kernelspec": {
   "display_name": "Python 3",
   "language": "python",
   "name": "python3"
  },
  "language_info": {
   "codemirror_mode": {
    "name": "ipython",
    "version": 3
   },
   "file_extension": ".py",
   "mimetype": "text/x-python",
   "name": "python",
   "nbconvert_exporter": "python",
   "pygments_lexer": "ipython3",
   "version": "3.7.9"
  },
  "papermill": {
   "default_parameters": {},
   "duration": 15.071573,
   "end_time": "2021-04-05T09:37:08.339215",
   "environment_variables": {},
   "exception": null,
   "input_path": "__notebook__.ipynb",
   "output_path": "__notebook__.ipynb",
   "parameters": {},
   "start_time": "2021-04-05T09:36:53.267642",
   "version": "2.3.2"
  }
 },
 "nbformat": 4,
 "nbformat_minor": 5
}
